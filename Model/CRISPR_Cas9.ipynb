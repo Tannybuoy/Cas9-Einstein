{
  "nbformat": 4,
  "nbformat_minor": 0,
  "metadata": {
    "colab": {
      "name": "CRISPR-Cas9.ipynb",
      "provenance": []
    },
    "kernelspec": {
      "name": "python3",
      "display_name": "Python 3"
    },
    "accelerator": "GPU"
  },
  "cells": [
    {
      "cell_type": "code",
      "metadata": {
        "id": "3eDx7XJbDuQQ",
        "colab": {
          "base_uri": "https://localhost:8080/"
        },
        "outputId": "d13d54e5-216b-4917-fac7-e149d69cec5b"
      },
      "source": [
        "from google.colab import drive\n",
        "drive.mount('/content/gdrive')"
      ],
      "execution_count": 4,
      "outputs": [
        {
          "output_type": "stream",
          "text": [
            "Drive already mounted at /content/gdrive; to attempt to forcibly remount, call drive.mount(\"/content/gdrive\", force_remount=True).\n"
          ],
          "name": "stdout"
        }
      ]
    },
    {
      "cell_type": "code",
      "metadata": {
        "colab": {
          "base_uri": "https://localhost:8080/"
        },
        "id": "kTwlcvTRqlQJ",
        "outputId": "b0f3d975-26ff-4662-d3bf-cfe5f917a9d0"
      },
      "source": [
        "cd '/content/gdrive/MyDrive/Colab Notebooks/CNN-SVR-master'"
      ],
      "execution_count": 5,
      "outputs": [
        {
          "output_type": "stream",
          "text": [
            "/content/gdrive/MyDrive/Colab Notebooks/CNN-SVR-master\n"
          ],
          "name": "stdout"
        }
      ]
    },
    {
      "cell_type": "code",
      "metadata": {
        "id": "f9UMZMi0EKOk"
      },
      "source": [
        "# -*- coding:utf-8 -*-\r\n",
        "\r\n",
        "import os\r\n",
        "os.environ[\"CUDA_VISIBLE_DEVICES\"] = \"0\""
      ],
      "execution_count": 6,
      "outputs": []
    },
    {
      "cell_type": "code",
      "metadata": {
        "id": "o90yOBcRELWs"
      },
      "source": [
        "# import tensorflow as tf\r\n",
        "# import keras.backend.tensorflow_backend as KTF\r\n",
        "#\r\n",
        "# config = tf.ConfigProto()\r\n",
        "# config.gpu_options.per_process_gpu_memory_fraction = 0.95\r\n",
        "# session = tf.Session(config=config)\r\n",
        "#\r\n",
        "# KTF.set_session(session)\r\n",
        "\r\n",
        "from keras.models import Model\r\n",
        "from keras.layers import Input\r\n",
        "from keras.layers.core import Dense, Dropout, Activation, Flatten\r\n",
        "from keras.layers.convolutional import Convolution1D, AveragePooling1D\r\n",
        "from keras.layers.merge import concatenate\r\n",
        "import numpy as np\r\n",
        "import pandas as pd\r\n",
        "from sklearn.svm import SVR\r\n",
        "import scipy.stats as stats"
      ],
      "execution_count": 7,
      "outputs": []
    },
    {
      "cell_type": "markdown",
      "metadata": {
        "id": "cy3bc5xXJvS2"
      },
      "source": [
        "**Note:**  \r\n",
        "* The input training and testing files should include gRNA sequence with length of 23 bp and four \"A-N\" symbolic corresponding epigenetic features seuqnces with length of 23 as well as label in each gRNA sequence.    \r\n",
        "* The train.csv, test.csv can be replaced or modified to include gRNA sequence and four epigenetic features of interest  \r\n",
        "\r\n",
        "## Demo instructions  \r\n",
        "#### **Input (gRNA sequence and four epigenetic features):**               \r\n",
        "* #### **Data format:**      \r\n",
        "*   **gRNA sequence:** TGAGAAGTCTATGAGCTTCAAGG (23bp)      \r\n",
        "*   **ctcf:** NNNNNNNNNNNNNNNNNNNNNNN (length=23)      \r\n",
        "*   **dnase:** AAAAAAAAAAAAAAAAAAAAAAA (length=23)      \r\n",
        "*   **h3k4me3:** NNNNNNNNNNNNNNNNNNNNNNN (length=23)      \r\n",
        "*   **rrbs:** NNNNNNNNNNNNNNNNNNNNNNN (length=23)   "
      ]
    },
    {
      "cell_type": "code",
      "metadata": {
        "id": "bHQKY_VnELS7"
      },
      "source": [
        "def grna_preprocess(lines):\r\n",
        "    length = 23\r\n",
        "    data_n = len(lines)\r\n",
        "    seq = np.zeros((data_n, length, 4), dtype=int)\r\n",
        "    for l in range(data_n):\r\n",
        "        data = lines[l]\r\n",
        "        seq_temp = data\r\n",
        "        for i in range(length):\r\n",
        "            if seq_temp[i] in \"Aa\":\r\n",
        "                seq[l, i, 0] = 1\r\n",
        "            elif seq_temp[i] in \"Cc\":\r\n",
        "                seq[l, i, 1] = 1\r\n",
        "            elif seq_temp[i] in \"Gg\":\r\n",
        "                seq[l, i, 2] = 1\r\n",
        "            elif seq_temp[i] in \"Tt\":\r\n",
        "                seq[l, i, 3] = 1\r\n",
        "    return seq"
      ],
      "execution_count": 8,
      "outputs": []
    },
    {
      "cell_type": "code",
      "metadata": {
        "id": "xpb_S-Z7ELMX"
      },
      "source": [
        "def epi_preprocess(lines):\r\n",
        "    length = 23\r\n",
        "    data_n = len(lines)\r\n",
        "    epi = np.zeros((data_n, length), dtype=int)\r\n",
        "    for l in range(data_n):\r\n",
        "        data = lines[l]\r\n",
        "        epi_temp = data\r\n",
        "        for i in range(length):\r\n",
        "            if epi_temp[i] in \"A\":\r\n",
        "                epi[l, i] = 1\r\n",
        "            elif epi_temp[i] in \"N\":\r\n",
        "                epi[l, i] = 0\r\n",
        "    return epi"
      ],
      "execution_count": 9,
      "outputs": []
    },
    {
      "cell_type": "code",
      "metadata": {
        "id": "qLei1y0VESv_"
      },
      "source": [
        "def preprocess(file_path, usecols):\r\n",
        "    data = pd.read_csv(file_path, usecols=usecols)\r\n",
        "    data = np.array(data)\r\n",
        "    ctcf, dnase, h3k4me3, rrbs = epi_preprocess(data[:, 0]), epi_preprocess(data[:, 1]), epi_preprocess(data[:, 2]), epi_preprocess(data[:, 3])\r\n",
        "    epi = []\r\n",
        "    for i in range(len(data)):\r\n",
        "        ctcf_t, dnase_t, h3k4me3_t, rrbs_t = pd.DataFrame(ctcf[i]), pd.DataFrame(dnase[i]), pd.DataFrame(h3k4me3[i]), pd.DataFrame(rrbs[i])\r\n",
        "        epi_t = pd.concat([ctcf_t, dnase_t, h3k4me3_t, rrbs_t], axis=1)\r\n",
        "        epi_t = np.array(epi_t)\r\n",
        "        epi.append(epi_t)\r\n",
        "    epi = np.array(epi)\r\n",
        "    return epi"
      ],
      "execution_count": 10,
      "outputs": []
    },
    {
      "cell_type": "code",
      "metadata": {
        "id": "i-yrkO-pESo3"
      },
      "source": [
        "def load_data(train_file, test_file):\r\n",
        "    train_data = pd.read_csv(train_file, usecols=[4, 9])\r\n",
        "    train_data = np.array(train_data)\r\n",
        "    train_seq, train_y = train_data[:, 0], train_data[:, 1]\r\n",
        "    train_seq = grna_preprocess(train_seq)\r\n",
        "    train_epi = preprocess(train_file, [5, 6, 7, 8])\r\n",
        "    train_y = train_y.reshape(len(train_y), -1)\r\n",
        "\r\n",
        "    test_data = pd.read_csv(test_file, usecols=[4, 9])\r\n",
        "    test_data = np.array(test_data)\r\n",
        "    test_seq, test_y = test_data[:, 0], test_data[:, 1]\r\n",
        "    test_seq = grna_preprocess(test_seq)\r\n",
        "    test_epi = preprocess(test_file, [5, 6, 7, 8])\r\n",
        "    test_y = test_y.reshape(len(test_y), -1)\r\n",
        "    return train_seq, test_seq, train_epi, test_epi, train_y, test_y"
      ],
      "execution_count": 11,
      "outputs": []
    },
    {
      "cell_type": "code",
      "metadata": {
        "id": "d6yiQG1iqwKI"
      },
      "source": [
        "# Build model\r\n",
        "def build_model():\r\n",
        "    dropout = 0.3\r\n",
        "    seq_input = Input(shape=(23, 4))\r\n",
        "    seq_conv1 = Convolution1D(256, 5, kernel_initializer='glorot_uniform', name='seq_conv_1')(seq_input)\r\n",
        "    seq_act1 = Activation('relu', name='seq_activation1')(seq_conv1)\r\n",
        "    seq_pool1 = AveragePooling1D(2, name='seq_pooling_1')(seq_act1)\r\n",
        "    seq_drop1 = Dropout(dropout)(seq_pool1)\r\n",
        "\r\n",
        "    seq_conv2 = Convolution1D(256, 5, kernel_initializer='glorot_uniform', name='seq_conv_2')(seq_drop1)\r\n",
        "    seq_act2 = Activation('relu', name='seq_activation_2')(seq_conv2)\r\n",
        "    seq_pool2 = AveragePooling1D(2, name='seq_pooling_2')(seq_act2)\r\n",
        "    seq_drop2 = Dropout(dropout)(seq_pool2)\r\n",
        "    seq_flat = Flatten()(seq_drop2)\r\n",
        "\r\n",
        "    seq_dense1 = Dense(256, activation='relu', name='seq_dense_1')(seq_flat)\r\n",
        "    seq_drop3 = Dropout(dropout)(seq_dense1)\r\n",
        "    seq_dense2 = Dense(128, activation='relu', name='seq_dense_2')(seq_drop3)\r\n",
        "    seq_drop4 = Dropout(dropout)(seq_dense2)\r\n",
        "    seq_dense3 = Dense(64, activation='relu', name='seq_dense_3')(seq_drop4)\r\n",
        "    seq_drop5 = Dropout(dropout)(seq_dense3)\r\n",
        "    seq_out = Dense(40, activation='relu', name='seq_dense_4')(seq_drop5)\r\n",
        "\r\n",
        "    epi_input = Input(shape=(23, 4))\r\n",
        "    epi_conv1 = Convolution1D(256, 5, kernel_initializer='glorot_uniform', name='epi_conv_1')(epi_input)\r\n",
        "    epi_act1 = Activation('relu', name='epi_activation_1')(epi_conv1)\r\n",
        "    epi_pool1 = AveragePooling1D(2, name='epi_pooling_1')(epi_act1)\r\n",
        "    epi_drop1 = Dropout(dropout)(epi_pool1)\r\n",
        "\r\n",
        "    epi_conv2 = Convolution1D(256, 5, kernel_initializer='glorot_uniform', name='epi_conv_2')(epi_drop1)\r\n",
        "    epi_act2 = Activation('relu', name='epi_activation_2')(epi_conv2)\r\n",
        "    epi_pool2 = AveragePooling1D(2, name='epi_pooling_2')(epi_act2)\r\n",
        "    epi_drop2 = Dropout(dropout)(epi_pool2)\r\n",
        "    epi_flat = Flatten()(epi_drop2)\r\n",
        "\r\n",
        "    epi_dense1 = Dense(256, activation='relu', name='epi_dense_1')(epi_flat)\r\n",
        "    epi_drop3 = Dropout(dropout)(epi_dense1)\r\n",
        "    epi_dense2 = Dense(128, activation='relu', name='epi_dense_2')(epi_drop3)\r\n",
        "    epi_drop4 = Dropout(dropout)(epi_dense2)\r\n",
        "    epi_dense3 = Dense(64, activation='relu', name='epi_dense_3')(epi_drop4)\r\n",
        "    epi_drop5 = Dropout(dropout)(epi_dense3)\r\n",
        "    epi_out = Dense(40, activation='relu', name='epi_dense_4')(epi_drop5)\r\n",
        "\r\n",
        "    merged = concatenate([seq_out, epi_out], axis=-1)\r\n",
        "\r\n",
        "    pretrain_model = Model(inputs=[seq_input, epi_input], outputs=[merged])\r\n",
        "\r\n",
        "    # Load weights for the model\r\n",
        "    pretrain_model.load_weights(\"weights/weights.h5\", by_name=True)\r\n",
        "\r\n",
        "    prediction = Dense(1, activation='linear', name='prediction')(merged)\r\n",
        "    model = Model([seq_input, epi_input], prediction)\r\n",
        "    return merged, model"
      ],
      "execution_count": 12,
      "outputs": []
    },
    {
      "cell_type": "code",
      "metadata": {
        "colab": {
          "base_uri": "https://localhost:8080/"
        },
        "id": "g49Bu5oLrO1J",
        "outputId": "a6f39a28-7f01-4298-cd3b-6ec7b6fdc38f"
      },
      "source": [
        "if __name__ == '__main__':\r\n",
        "\r\n",
        "    train_path = \"data/training_example.csv\"\r\n",
        "    test_path = \"data/testing_example.csv\"\r\n",
        "\r\n",
        "    # Load data\r\n",
        "    seq_train, seq_test, epi_train, epi_test, y_train, y_test = load_data(train_path, test_path)\r\n",
        "\r\n",
        "    merged, model = build_model()\r\n",
        "\r\n",
        "    new_model = Model(model.inputs, outputs=[merged])\r\n",
        "    x_train = new_model.predict([seq_train, epi_train])\r\n",
        "    x_test = new_model.predict([seq_test, epi_test])\r\n",
        "\r\n",
        "    x_train, x_test = np.array(x_train), np.array(x_test)\r\n",
        "\r\n",
        "    # Select important features from initial CNN features\r\n",
        "    selected_cnn_fea_cols = [17, 26, 9, 19, 30, 6, 12, 39, 36, 21, 22, 3, 25]\r\n",
        "    x_train = x_train[:, selected_cnn_fea_cols]\r\n",
        "    x_test = x_test[:, selected_cnn_fea_cols]\r\n",
        "\r\n",
        "    y_train = np.array(y_train).ravel()\r\n",
        "    y_test = np.array(y_test).ravel()\r\n",
        "\r\n",
        "    clf = SVR(kernel=\"rbf\", gamma=0.12, C=1.7, epsilon=0.11, verbose=1)\r\n",
        "\r\n",
        "    # Fit the SVR model according to the given training data\r\n",
        "    clf.fit(x_train, y_train)\r\n",
        "\r\n",
        "    # Perform regression on samples in x_test\r\n",
        "    y_pred = clf.predict(x_test)\r\n",
        "    print(y_pred)\r\n",
        "\r\n",
        "    # Calculate Spearman correlation coefficient\r\n",
        "    Spearman_correlation, _ = stats.stats.spearmanr(y_test, y_pred)\r\n",
        "\r\n",
        "    # Print Spearman correlation result\r\n",
        "    print(\"Spearman correlation=%.3f\" % (Spearman_correlation))"
      ],
      "execution_count": 13,
      "outputs": [
        {
          "output_type": "stream",
          "text": [
            "[LibSVM][0.22743432 0.32166098]\n",
            "Spearman correlation=-1.000\n"
          ],
          "name": "stdout"
        }
      ]
    },
    {
      "cell_type": "code",
      "metadata": {
        "id": "8k83RQwQEj7B"
      },
      "source": [
        ""
      ],
      "execution_count": null,
      "outputs": []
    }
  ]
}